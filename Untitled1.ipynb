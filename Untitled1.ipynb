{
 "metadata": {
  "name": "",
  "signature": "sha256:74fbb5cf11cd98900af65066d0e9e3a89fe97899e9cf08a81fd18cc5926b5fa6"
 },
 "nbformat": 3,
 "nbformat_minor": 0,
 "worksheets": []
}